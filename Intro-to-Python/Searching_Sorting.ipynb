{
 "cells": [
  {
   "cell_type": "markdown",
   "metadata": {},
   "source": [
    "## Binary Search"
   ]
  },
  {
   "cell_type": "code",
   "execution_count": 16,
   "metadata": {},
   "outputs": [],
   "source": [
    "import time"
   ]
  },
  {
   "cell_type": "code",
   "execution_count": 17,
   "metadata": {},
   "outputs": [],
   "source": [
    "def gen_random_arr(n):\n",
    "    import random\n",
    "\n",
    "    arr = [random.randint(1, 50) for _ in range(n)]\n",
    "    return arr"
   ]
  },
  {
   "cell_type": "code",
   "execution_count": 36,
   "metadata": {},
   "outputs": [],
   "source": [
    "def binary_search(arr, target):\n",
    "    low = 0\n",
    "    high = len(arr) - 1\n",
    "\n",
    "    while low <= high:\n",
    "        mid = (low + high) // 2\n",
    "\n",
    "        if arr[mid] == target:\n",
    "            return mid\n",
    "        elif target < arr[mid]:\n",
    "            high = mid - 1\n",
    "        else:\n",
    "            low = mid + 1\n",
    "\n",
    "    return -1"
   ]
  },
  {
   "cell_type": "code",
   "execution_count": 38,
   "metadata": {},
   "outputs": [
    {
     "name": "stdout",
     "output_type": "stream",
     "text": [
      "[7, 8, 20, 33, 38, 45, 47, 49, 50, 50]\n"
     ]
    }
   ],
   "source": [
    "arr = gen_random_arr(10)\n",
    "arr.sort()\n",
    "print(arr)"
   ]
  },
  {
   "cell_type": "code",
   "execution_count": 39,
   "metadata": {},
   "outputs": [
    {
     "data": {
      "text/plain": [
       "1"
      ]
     },
     "execution_count": 39,
     "metadata": {},
     "output_type": "execute_result"
    }
   ],
   "source": [
    "binary_search(arr, 8)"
   ]
  },
  {
   "cell_type": "markdown",
   "metadata": {},
   "source": [
    "## Selection sort"
   ]
  },
  {
   "cell_type": "code",
   "execution_count": 6,
   "metadata": {},
   "outputs": [],
   "source": [
    "def selection_sort(arr):\n",
    "    for i in range(len(arr)):\n",
    "        curr_min_idx = i\n",
    "        for j in range(i + 1, len(arr)):\n",
    "            if arr[curr_min_idx] > arr[j]:\n",
    "                curr_min_idx = j\n",
    "\n",
    "        # Swap\n",
    "        arr[i], arr[curr_min_idx] = arr[curr_min_idx], arr[i]\n",
    "\n",
    "    print(arr)"
   ]
  },
  {
   "cell_type": "code",
   "execution_count": 7,
   "metadata": {},
   "outputs": [],
   "source": [
    "arr = gen_random_arr(10)"
   ]
  },
  {
   "cell_type": "code",
   "execution_count": 8,
   "metadata": {},
   "outputs": [
    {
     "name": "stdout",
     "output_type": "stream",
     "text": [
      "[11, 16, 22, 22, 24, 25, 25, 26, 48, 50]\n"
     ]
    }
   ],
   "source": [
    "selection_sort(arr)"
   ]
  },
  {
   "cell_type": "markdown",
   "metadata": {},
   "source": [
    "## Bubble sort"
   ]
  },
  {
   "cell_type": "code",
   "execution_count": 30,
   "metadata": {},
   "outputs": [],
   "source": [
    "def bubble_sort(arr):\n",
    "    start = time.time()\n",
    "    for i in range(len(arr)):\n",
    "        for j in range(len(arr) - 1):\n",
    "            if arr[j] > arr[j + 1]:\n",
    "                arr[j], arr[j + 1] = arr[j + 1], arr[j]\n",
    "\n",
    "    print(f\"Time taken = {time.time() - start}s\")"
   ]
  },
  {
   "cell_type": "code",
   "execution_count": 31,
   "metadata": {},
   "outputs": [],
   "source": [
    "arr = gen_random_arr(5000)"
   ]
  },
  {
   "cell_type": "code",
   "execution_count": 32,
   "metadata": {},
   "outputs": [
    {
     "name": "stdout",
     "output_type": "stream",
     "text": [
      "Time taken = 3.1424317359924316s\n"
     ]
    }
   ],
   "source": [
    "bubble_sort(arr)"
   ]
  },
  {
   "cell_type": "markdown",
   "metadata": {},
   "source": [
    "### Optimizing bubble sort"
   ]
  },
  {
   "cell_type": "code",
   "execution_count": 33,
   "metadata": {},
   "outputs": [],
   "source": [
    "def bubble_sort_opt(arr):\n",
    "    start = time.time()\n",
    "    # For sorting N elements we need N-1 passes\n",
    "    for i in range(len(arr) - 1):  # Change to N-1\n",
    "        for j in range(len(arr) - 1 - i):  # Comparisons go from N-1, N-2, .., 1\n",
    "            if arr[j] > arr[j + 1]:\n",
    "                arr[j], arr[j + 1] = arr[j + 1], arr[j]\n",
    "\n",
    "    print(f\"Time taken = {time.time() - start}s\")"
   ]
  },
  {
   "cell_type": "code",
   "execution_count": 34,
   "metadata": {},
   "outputs": [],
   "source": [
    "arr = gen_random_arr(5000)"
   ]
  },
  {
   "cell_type": "code",
   "execution_count": 35,
   "metadata": {},
   "outputs": [
    {
     "name": "stdout",
     "output_type": "stream",
     "text": [
      "Time taken = 2.039052724838257s\n"
     ]
    }
   ],
   "source": [
    "bubble_sort_opt(arr)"
   ]
  },
  {
   "cell_type": "markdown",
   "metadata": {},
   "source": [
    "## Insertion sort"
   ]
  },
  {
   "cell_type": "code",
   "execution_count": 65,
   "metadata": {},
   "outputs": [],
   "source": [
    "def insertion_sort(arr):\n",
    "    for i in range(1, len(arr)):\n",
    "        key = arr[i]\n",
    "        j = i - 1\n",
    "        while j >= 0 and arr[j] > key:\n",
    "            arr[j], arr[j + 1] = arr[j + 1], arr[j]\n",
    "            j -= 1\n",
    "        arr[j + 1] = key"
   ]
  },
  {
   "cell_type": "code",
   "execution_count": 66,
   "metadata": {},
   "outputs": [
    {
     "data": {
      "text/plain": [
       "[41, 36, 39, 13, 5, 1, 6, 3, 37, 44]"
      ]
     },
     "execution_count": 66,
     "metadata": {},
     "output_type": "execute_result"
    }
   ],
   "source": [
    "arr = gen_random_arr(10)\n",
    "arr"
   ]
  },
  {
   "cell_type": "code",
   "execution_count": 57,
   "metadata": {},
   "outputs": [
    {
     "data": {
      "text/plain": [
       "[11, 12, 17, 19, 25, 25, 25, 35, 35, 46]"
      ]
     },
     "execution_count": 57,
     "metadata": {},
     "output_type": "execute_result"
    }
   ],
   "source": [
    "insertion_sort(arr)\n",
    "arr"
   ]
  },
  {
   "cell_type": "markdown",
   "metadata": {},
   "source": [
    "## Merge two sorted arrays"
   ]
  },
  {
   "cell_type": "code",
   "execution_count": 7,
   "metadata": {},
   "outputs": [],
   "source": [
    "def merge_arrays(arr1, arr2):\n",
    "    arr3 = []\n",
    "    i, j, k = 0, 0, 0\n",
    "    while i < len(arr1) and j < len(arr2):\n",
    "        if arr1[i] < arr2[j]:\n",
    "            arr3.append(arr1[i])\n",
    "            i += 1\n",
    "        else:\n",
    "            arr3.append(arr2[j])\n",
    "            j += 1\n",
    "\n",
    "    while i < len(arr1):\n",
    "        arr3.append(arr1[i])\n",
    "        i += 1\n",
    "\n",
    "    while j < len(arr2):\n",
    "        arr3.append(arr2[j])\n",
    "        j += 1\n",
    "\n",
    "    return arr3"
   ]
  },
  {
   "cell_type": "code",
   "execution_count": 9,
   "metadata": {},
   "outputs": [
    {
     "name": "stdout",
     "output_type": "stream",
     "text": [
      "[3, 6, 30, 45, 49] [1, 3, 4, 26, 26, 39, 48]\n"
     ]
    },
    {
     "data": {
      "text/plain": [
       "[1, 3, 3, 4, 6, 26, 26, 30, 39, 45, 48, 49]"
      ]
     },
     "execution_count": 9,
     "metadata": {},
     "output_type": "execute_result"
    }
   ],
   "source": [
    "arr1 = gen_random_arr(5)\n",
    "arr2 = gen_random_arr(7)\n",
    "arr1.sort()\n",
    "arr2.sort()\n",
    "print(arr1, arr2)\n",
    "merge_arrays(arr1, arr2)"
   ]
  },
  {
   "cell_type": "markdown",
   "metadata": {},
   "source": [
    "## Push zeros to end"
   ]
  },
  {
   "cell_type": "code",
   "execution_count": 13,
   "metadata": {},
   "outputs": [],
   "source": [
    "def push_zeros_to_end(arr):\n",
    "    curr_idx = 0\n",
    "    for i in range(1, len(arr)):\n",
    "        if arr[curr_idx] != 0:\n",
    "            curr_idx += 1\n",
    "        arr[curr_idx], arr[i] = arr[i], arr[curr_idx]\n",
    "    return arr"
   ]
  },
  {
   "cell_type": "code",
   "execution_count": 14,
   "metadata": {},
   "outputs": [
    {
     "name": "stdout",
     "output_type": "stream",
     "text": [
      "[2, 1, 3, 0, 0, 0, 0]\n"
     ]
    }
   ],
   "source": [
    "arr = [2, 0, 0, 1, 3, 0, 0]\n",
    "print(push_zeros_to_end(arr))"
   ]
  },
  {
   "cell_type": "markdown",
   "metadata": {},
   "source": [
    "## Rotate array"
   ]
  },
  {
   "cell_type": "code",
   "execution_count": 15,
   "metadata": {},
   "outputs": [],
   "source": [
    "def rotate_by_one(arr):\n",
    "    first = arr[0]\n",
    "    for i in range(len(arr) - 1):\n",
    "        arr[i] = arr[i + 1]\n",
    "    arr[len(arr) - 1] = first\n",
    "    return arr\n",
    "    \n",
    "def rotate(arr, d):\n",
    "    for i in range(d):\n",
    "        arr = rotate_by_one(arr)\n",
    "    return arr"
   ]
  },
  {
   "cell_type": "code",
   "execution_count": 18,
   "metadata": {},
   "outputs": [
    {
     "data": {
      "text/plain": [
       "[19, 3, 9, 42, 47, 26, 39, 2, 7, 9]"
      ]
     },
     "execution_count": 18,
     "metadata": {},
     "output_type": "execute_result"
    }
   ],
   "source": [
    "arr = gen_random_arr(10)\n",
    "arr"
   ]
  },
  {
   "cell_type": "code",
   "execution_count": 19,
   "metadata": {},
   "outputs": [
    {
     "data": {
      "text/plain": [
       "[9, 42, 47, 26, 39, 2, 7, 9, 19, 3]"
      ]
     },
     "execution_count": 19,
     "metadata": {},
     "output_type": "execute_result"
    }
   ],
   "source": [
    "rotate(arr, 2)"
   ]
  },
  {
   "cell_type": "markdown",
   "metadata": {},
   "source": [
    "## Check array rotation"
   ]
  },
  {
   "cell_type": "code",
   "execution_count": 20,
   "metadata": {},
   "outputs": [],
   "source": [
    "def check(arr):\n",
    "    idx = 0\n",
    "    for i in range(len(arr) - 1):\n",
    "        if arr[i] > arr[i+1]:\n",
    "            idx = i + 1\n",
    "            break\n",
    "    \n",
    "    return idx"
   ]
  },
  {
   "cell_type": "markdown",
   "metadata": {},
   "source": [
    "## Sum two arrays"
   ]
  },
  {
   "cell_type": "code",
   "execution_count": 50,
   "metadata": {},
   "outputs": [],
   "source": [
    "def sum_arrays(arr1, arr2):\n",
    "    res = [0] * (max(len(arr1), len(arr2)) + 1)\n",
    "    i, j, k, c = len(arr1) - 1, len(arr2) - 1, len(res) - 1, 0\n",
    "    while((i >= 0) and (j >= 0)):\n",
    "        s = arr1[i] + arr2[j] + c\n",
    "        res[k] = s % 10\n",
    "        c = s // 10\n",
    "        i -= 1\n",
    "        j -= 1\n",
    "        k -= 1\n",
    "        \n",
    "    if i > j:\n",
    "        while i >= 0:\n",
    "            s = c + arr1[i]\n",
    "            res[k] = s % 10\n",
    "            c = s // 10\n",
    "            i -= 1\n",
    "            k -= 1\n",
    "\n",
    "    elif i < j:\n",
    "        while j >= 0:\n",
    "            s = c + arr2[j]\n",
    "            res[k] = s % 10\n",
    "            c = s // 10\n",
    "            j -= 1\n",
    "            k -= 1\n",
    "    else:\n",
    "        res[0] = c\n",
    "    \n",
    "    print(*res, end=\" \")"
   ]
  },
  {
   "cell_type": "code",
   "execution_count": 51,
   "metadata": {},
   "outputs": [
    {
     "name": "stdout",
     "output_type": "stream",
     "text": [
      "0 1 3 2 9 0 "
     ]
    }
   ],
   "source": [
    "a = [1, 2, 6, 9, 8]\n",
    "b = [5, 9, 2]\n",
    "sum_arrays(a, b)"
   ]
  },
  {
   "cell_type": "code",
   "execution_count": 52,
   "metadata": {},
   "outputs": [
    {
     "name": "stdout",
     "output_type": "stream",
     "text": [
      "ed\n"
     ]
    }
   ],
   "source": [
    "s = \"abcdef\"\n",
    "print (s[4:2:-1])"
   ]
  },
  {
   "cell_type": "code",
   "execution_count": 64,
   "metadata": {},
   "outputs": [
    {
     "data": {
      "text/plain": [
       "'fedcba'"
      ]
     },
     "execution_count": 64,
     "metadata": {},
     "output_type": "execute_result"
    }
   ],
   "source": [
    "s[::-1]"
   ]
  },
  {
   "cell_type": "code",
   "execution_count": 65,
   "metadata": {},
   "outputs": [
    {
     "name": "stdout",
     "output_type": "stream",
     "text": [
      "True\n"
     ]
    }
   ],
   "source": [
    "a = \"abce\" >= \"abcdef\"\n",
    "print(a)"
   ]
  },
  {
   "cell_type": "code",
   "execution_count": null,
   "metadata": {},
   "outputs": [],
   "source": []
  }
 ],
 "metadata": {
  "kernelspec": {
   "display_name": "Python 3 (ipykernel)",
   "language": "python",
   "name": "python3"
  },
  "language_info": {
   "codemirror_mode": {
    "name": "ipython",
    "version": 3
   },
   "file_extension": ".py",
   "mimetype": "text/x-python",
   "name": "python",
   "nbconvert_exporter": "python",
   "pygments_lexer": "ipython3",
   "version": "3.9.12"
  },
  "toc": {
   "base_numbering": 1,
   "nav_menu": {},
   "number_sections": true,
   "sideBar": true,
   "skip_h1_title": false,
   "title_cell": "Table of Contents",
   "title_sidebar": "Contents",
   "toc_cell": false,
   "toc_position": {
    "height": "calc(100% - 180px)",
    "left": "10px",
    "top": "150px",
    "width": "303.837px"
   },
   "toc_section_display": true,
   "toc_window_display": false
  },
  "toc-autonumbering": true,
  "toc-showcode": false,
  "toc-showtags": false
 },
 "nbformat": 4,
 "nbformat_minor": 4
}
