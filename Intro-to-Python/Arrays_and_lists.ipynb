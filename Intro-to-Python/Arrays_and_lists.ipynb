{
 "cells": [
  {
   "cell_type": "markdown",
   "id": "68b59c7e-4516-4603-887d-e9a47f883652",
   "metadata": {},
   "source": [
    "# Arrays and Lists"
   ]
  },
  {
   "cell_type": "markdown",
   "id": "705768f8-b694-4400-8d6f-c10b6bcd3309",
   "metadata": {},
   "source": [
    "## Swap Alternate "
   ]
  },
  {
   "cell_type": "code",
   "execution_count": 1,
   "id": "d0a56279-51a2-43d7-87ff-eede6608b109",
   "metadata": {},
   "outputs": [],
   "source": [
    "import random"
   ]
  },
  {
   "cell_type": "code",
   "execution_count": 3,
   "id": "8514fa51-32a6-4676-b648-c6d7f2559d1d",
   "metadata": {},
   "outputs": [
    {
     "data": {
      "text/plain": [
       "[14, 38, 44, 24, 40, 98, 100, 2, 71]"
      ]
     },
     "execution_count": 3,
     "metadata": {},
     "output_type": "execute_result"
    }
   ],
   "source": [
    "l = [random.randint(1, 100) for _ in range(9)]\n",
    "l"
   ]
  },
  {
   "cell_type": "code",
   "execution_count": 6,
   "id": "8c959765-27dd-498b-8910-cacc07bcdaf2",
   "metadata": {},
   "outputs": [
    {
     "name": "stdout",
     "output_type": "stream",
     "text": [
      "[38, 14, 24, 44, 98, 40, 2, 100, 71]\n"
     ]
    }
   ],
   "source": [
    "i = 0\n",
    "while i < len(l) - 1:\n",
    "    l[i], l[i + 1] = l[i + 1], l[i]\n",
    "    i += 2\n",
    "print(l)"
   ]
  },
  {
   "cell_type": "markdown",
   "id": "6b41c406-be65-44ab-89ef-62ac0b439ebb",
   "metadata": {},
   "source": [
    "## Find Unique"
   ]
  },
  {
   "cell_type": "code",
   "execution_count": 7,
   "id": "3d6b058d-6542-44c7-bb6e-b32dbcb1f727",
   "metadata": {},
   "outputs": [],
   "source": [
    "def findUnique(arr, n):\n",
    "    counter = {i: 0 for i in arr}\n",
    "    for a in arr:\n",
    "        counter[a] += 1\n",
    "\n",
    "    print(counter)"
   ]
  },
  {
   "cell_type": "code",
   "execution_count": 8,
   "id": "cb7833d4-bb53-4715-b514-f6288266f5b7",
   "metadata": {},
   "outputs": [
    {
     "name": "stdout",
     "output_type": "stream",
     "text": [
      "{2: 2, 3: 2, 1: 1, 6: 2}\n"
     ]
    }
   ],
   "source": [
    "l = [2, 3, 1, 6, 3, 6, 2]\n",
    "findUnique(l, 0)"
   ]
  },
  {
   "cell_type": "markdown",
   "id": "eef928f1-da37-4986-a3a7-54a1d56a7ecf",
   "metadata": {},
   "source": [
    "## Intersection of Two Arrays II"
   ]
  },
  {
   "cell_type": "code",
   "execution_count": 8,
   "id": "668d4c91-0221-4bba-bca3-f0d06c77e0b3",
   "metadata": {},
   "outputs": [],
   "source": [
    "import math\n",
    "\n",
    "\n",
    "def intersection(a1, a2):\n",
    "    a1 = set(a1)\n",
    "    a2 = set(a2)\n",
    "\n",
    "    return a1.intersection(a2)"
   ]
  },
  {
   "cell_type": "code",
   "execution_count": 9,
   "id": "961774dc-ce0c-4312-a0e5-fec3ced033da",
   "metadata": {},
   "outputs": [
    {
     "name": "stdin",
     "output_type": "stream",
     "text": [
      " 1\n",
      " 1 2 3 4\n",
      " 2 3\n"
     ]
    },
    {
     "name": "stdout",
     "output_type": "stream",
     "text": [
      "{2, 3}\n"
     ]
    }
   ],
   "source": [
    "T = int(input())\n",
    "\n",
    "while T > 0:\n",
    "    a1 = list(map(int, input().split()))\n",
    "    a2 = list(map(int, input().split()))\n",
    "\n",
    "    print(intersection(a1, a2))\n",
    "\n",
    "    T -= 1"
   ]
  },
  {
   "cell_type": "code",
   "execution_count": null,
   "id": "1e4a8108-c5c2-4919-befa-1ad3ad2106ba",
   "metadata": {},
   "outputs": [],
   "source": []
  }
 ],
 "metadata": {
  "kernelspec": {
   "display_name": "Python 3 (ipykernel)",
   "language": "python",
   "name": "python3"
  },
  "language_info": {
   "codemirror_mode": {
    "name": "ipython",
    "version": 3
   },
   "file_extension": ".py",
   "mimetype": "text/x-python",
   "name": "python",
   "nbconvert_exporter": "python",
   "pygments_lexer": "ipython3",
   "version": "3.9.12"
  }
 },
 "nbformat": 4,
 "nbformat_minor": 5
}
