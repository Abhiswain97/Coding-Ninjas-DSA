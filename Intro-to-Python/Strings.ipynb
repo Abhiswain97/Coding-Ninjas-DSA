{
 "cells": [
  {
   "cell_type": "markdown",
   "id": "8f5e9ace-54e9-47b8-8927-969db1c99a38",
   "metadata": {},
   "source": [
    "## Check permutation"
   ]
  },
  {
   "cell_type": "code",
   "execution_count": 12,
   "id": "42f9ba28-d10c-418e-9467-43efae72044e",
   "metadata": {},
   "outputs": [],
   "source": [
    "def check_permutation(str1, str2):\n",
    "    if len(str1) != len(str2):\n",
    "        return False\n",
    "\n",
    "    a = sorted(str1)\n",
    "    a = \"\".join(a)\n",
    "    b = sorted(str2)\n",
    "    b = \"\".join(b)\n",
    "\n",
    "    c = 0\n",
    "    for i, j in zip(a, b):\n",
    "        if i == j:\n",
    "            c += 1\n",
    "\n",
    "    return c == len(str1)"
   ]
  },
  {
   "cell_type": "code",
   "execution_count": 14,
   "id": "e2bc6002-4146-4eb0-88f5-e300d5e02779",
   "metadata": {},
   "outputs": [
    {
     "data": {
      "text/plain": [
       "True"
      ]
     },
     "execution_count": 14,
     "metadata": {},
     "output_type": "execute_result"
    }
   ],
   "source": [
    "check_permutation(\"abc\", \"cab\")"
   ]
  },
  {
   "cell_type": "markdown",
   "id": "c2c6b9af-dc8e-4a2e-be69-afc428cdf74f",
   "metadata": {},
   "source": [
    "## Remove consecutive duplicates"
   ]
  },
  {
   "cell_type": "code",
   "execution_count": 16,
   "id": "b95bcc8e-fb04-4b50-a187-87eb524e0b54",
   "metadata": {},
   "outputs": [],
   "source": [
    "def remove_consecutive_duplicates(s):\n",
    "    curr = s[0]\n",
    "    new_str = curr\n",
    "    for i in range(1, len(s)):\n",
    "        if s[i] != curr:\n",
    "            curr = s[i]\n",
    "            new_str += curr\n",
    "\n",
    "    return new_str"
   ]
  },
  {
   "cell_type": "code",
   "execution_count": 17,
   "id": "e0889898-419a-4c70-869e-e97786e23b5b",
   "metadata": {},
   "outputs": [
    {
     "data": {
      "text/plain": [
       "'abc'"
      ]
     },
     "execution_count": 17,
     "metadata": {},
     "output_type": "execute_result"
    }
   ],
   "source": [
    "remove_consecutive_duplicates(\"aaabbbcc\")"
   ]
  },
  {
   "cell_type": "markdown",
   "id": "a03d6e2f-a6c3-4e39-9911-46234eec8747",
   "metadata": {},
   "source": [
    "## Compress String"
   ]
  },
  {
   "cell_type": "code",
   "execution_count": 60,
   "id": "c61840c0-bb14-4679-9978-c43ce63e68bb",
   "metadata": {},
   "outputs": [],
   "source": [
    "def getCompressedString(s):\n",
    "    # Write your code here.\n",
    "    c_dict = {k: 0 for k in s}\n",
    "    for a in s:\n",
    "        c_dict[a] += 1\n",
    "\n",
    "    c = s[0]\n",
    "    new = s[0]\n",
    "    for i in range(len(s)):\n",
    "        if s[i] != c:\n",
    "            new += s[i]\n",
    "            c = s[i]\n",
    "    conc = \"\"\n",
    "    for ch in new:\n",
    "        conc += str(ch) + str(c_dict[ch])\n",
    "\n",
    "    return conc"
   ]
  },
  {
   "cell_type": "code",
   "execution_count": 61,
   "id": "ae1cb4ce-dff4-4fe8-8d12-da70486b0d72",
   "metadata": {},
   "outputs": [
    {
     "data": {
      "text/plain": [
       "'a3e2c2d2'"
      ]
     },
     "execution_count": 61,
     "metadata": {},
     "output_type": "execute_result"
    }
   ],
   "source": [
    "getCompressedString(\"aaaeeccdd\")"
   ]
  },
  {
   "cell_type": "markdown",
   "id": "2738b35c-09dc-4829-bf60-9cddcce2e9e0",
   "metadata": {},
   "source": [
    "## Highest occuring character"
   ]
  },
  {
   "cell_type": "code",
   "execution_count": 29,
   "id": "82b03c35-8959-4466-be70-d9c37c5eece0",
   "metadata": {},
   "outputs": [],
   "source": [
    "import string\n",
    "\n",
    "\n",
    "def highest_occuring_char(s):\n",
    "    memo = {k: 0 for k in s}\n",
    "\n",
    "    for c in s:\n",
    "        memo[c] += 1\n",
    "\n",
    "    max_keys = [key for key, value in memo.items() if value == max(memo.values())]\n",
    "\n",
    "    return max_keys[0]"
   ]
  },
  {
   "cell_type": "code",
   "execution_count": 30,
   "id": "27027f24-900c-4ff5-baa0-4983d4becc92",
   "metadata": {},
   "outputs": [
    {
     "data": {
      "text/plain": [
       "'d'"
      ]
     },
     "execution_count": 30,
     "metadata": {},
     "output_type": "execute_result"
    }
   ],
   "source": [
    "highest_occuring_char(\"ddaabbc\")"
   ]
  },
  {
   "cell_type": "markdown",
   "id": "cd96d7d8-27fa-449f-88b8-d98c50759f8f",
   "metadata": {},
   "source": [
    "## Spiral print"
   ]
  },
  {
   "cell_type": "code",
   "execution_count": null,
   "id": "ed5ebe92-25b9-4b47-8039-d846ae80d9d4",
   "metadata": {},
   "outputs": [],
   "source": [
    "def spiral_print(arr, nRows, nCols):\n",
    "    rs, re, cs, ce = 0, nRows - 1, 0, nCols - 1\n",
    "    count = 1\n",
    "    while count < nRows * nCols:\n",
    "        i = cs\n",
    "        while i <= ce:\n",
    "            print(arr[rs][i], end=\" \")\n",
    "            i += 1\n",
    "            count += 1\n",
    "\n",
    "        rs += 1\n",
    "\n",
    "        i = rs\n",
    "        while i <= re:\n",
    "            print(arr[i][ce], end=\" \")\n",
    "            i += 1\n",
    "            count += 1\n",
    "\n",
    "        ce -= 1\n",
    "\n",
    "        i = ce\n",
    "        while i >= cs:\n",
    "            print(arr[re][i], end=\" \")\n",
    "            i -= 1\n",
    "            count += 1\n",
    "\n",
    "        re -= 1\n",
    "\n",
    "        i = re\n",
    "        while i >= rs:\n",
    "            print(arr[i][cs], end=\" \")\n",
    "            i -= 1\n",
    "            count += 1\n",
    "\n",
    "        cs += 1"
   ]
  },
  {
   "cell_type": "markdown",
   "id": "389ce277-0fc5-40fe-bcb6-ce500ad197d8",
   "metadata": {},
   "source": [
    "## Wave print"
   ]
  },
  {
   "cell_type": "code",
   "execution_count": 31,
   "id": "9d3666e1-c565-4d1f-ace4-fc9815324941",
   "metadata": {},
   "outputs": [],
   "source": [
    "def wavePrint(mat, nRows, mCols):\n",
    "    cs = 0\n",
    "    while cs < mCols:\n",
    "        if cs % 2 == 0:\n",
    "            i = 0\n",
    "            while i <= nRows - 1:\n",
    "                print(mat[i][cs], end=\" \")\n",
    "                i += 1\n",
    "        else:\n",
    "            i = nRows - 1\n",
    "            while i >= 0:\n",
    "                print(mat[i][cs], end=\" \")\n",
    "                i -= 1\n",
    "        cs += 1"
   ]
  },
  {
   "cell_type": "markdown",
   "id": "d820f397-cc3d-49b7-9998-13ecaaaa3dcd",
   "metadata": {},
   "source": [
    "## Leaders in an array"
   ]
  },
  {
   "cell_type": "code",
   "execution_count": 52,
   "id": "1d785999-dc96-4357-a20a-7968158798e4",
   "metadata": {},
   "outputs": [],
   "source": [
    "def leader(arr):\n",
    "    for i in range(len(arr)):\n",
    "        j = i + 1\n",
    "        while j < len(arr):\n",
    "            if arr[j] > arr[i]:\n",
    "                break\n",
    "            j += 1\n",
    "        if j == len(arr):\n",
    "            print(arr[i], end=\" \")"
   ]
  },
  {
   "cell_type": "code",
   "execution_count": 53,
   "id": "6258d99e-bf33-493d-bfa4-6201bd3a9f1f",
   "metadata": {},
   "outputs": [
    {
     "name": "stdout",
     "output_type": "stream",
     "text": [
      "34 2 0 -1 None\n"
     ]
    }
   ],
   "source": [
    "arr = [3, 12, 34, 2, 0, -1]\n",
    "print(leader(arr))"
   ]
  },
  {
   "cell_type": "code",
   "execution_count": 60,
   "id": "f6a9d16b-ab21-412d-944f-2fd52f0a2151",
   "metadata": {},
   "outputs": [
    {
     "name": "stdin",
     "output_type": "stream",
     "text": [
      " aqwdqwd abwqdqwd bkjfkljrlfjlekrf cewfwef dewfwefw ewdwqd fqsqs gefewf hwefwef iewf jewf kewfwef lwded2e ba\n"
     ]
    },
    {
     "data": {
      "text/plain": [
       "'ba'"
      ]
     },
     "execution_count": 60,
     "metadata": {},
     "output_type": "execute_result"
    }
   ],
   "source": [
    "s = input()\n",
    "\n",
    "words = s.split()\n",
    "\n",
    "sorted(words, key=len)[0]"
   ]
  },
  {
   "cell_type": "markdown",
   "id": "d662c256-8e0f-4ec7-a734-3caa56faac68",
   "metadata": {},
   "source": [
    "## Print 2D array"
   ]
  },
  {
   "cell_type": "code",
   "execution_count": 64,
   "id": "89ff4e8d-f99d-4218-9662-203a386fdbad",
   "metadata": {},
   "outputs": [
    {
     "name": "stdin",
     "output_type": "stream",
     "text": [
      " 3 3\n",
      " 1 2 3\n",
      " 4 5 6\n",
      " 7 8 9\n"
     ]
    },
    {
     "name": "stdout",
     "output_type": "stream",
     "text": [
      "1 2 3 \n",
      "1 2 3 \n",
      "1 2 3 \n",
      "4 5 6 \n",
      "4 5 6 \n",
      "7 8 9 \n"
     ]
    }
   ],
   "source": [
    "m, n = list(map(int, input().split()))\n",
    "i = 0\n",
    "f_arr, arr = [], []\n",
    "while i < m:\n",
    "    arr = list(map(int, input().split()))\n",
    "    f_arr.append(arr)\n",
    "    i += 1\n",
    "    \n",
    "cnt = m\n",
    "i = 0\n",
    "while i < m:\n",
    "    for j in range(cnt):\n",
    "        print(*f_arr[i], end=\" \")\n",
    "        print()\n",
    "    i += 1\n",
    "    cnt -= 1"
   ]
  },
  {
   "cell_type": "code",
   "execution_count": null,
   "id": "04dd476f-627e-45db-8235-a1f5d613eedc",
   "metadata": {},
   "outputs": [],
   "source": []
  }
 ],
 "metadata": {
  "kernelspec": {
   "display_name": "Python 3 (ipykernel)",
   "language": "python",
   "name": "python3"
  },
  "language_info": {
   "codemirror_mode": {
    "name": "ipython",
    "version": 3
   },
   "file_extension": ".py",
   "mimetype": "text/x-python",
   "name": "python",
   "nbconvert_exporter": "python",
   "pygments_lexer": "ipython3",
   "version": "3.9.12"
  },
  "toc-autonumbering": true
 },
 "nbformat": 4,
 "nbformat_minor": 5
}
