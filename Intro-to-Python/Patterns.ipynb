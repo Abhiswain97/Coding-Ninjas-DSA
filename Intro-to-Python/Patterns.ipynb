{
 "cells": [
  {
   "cell_type": "markdown",
   "id": "78a4f378",
   "metadata": {},
   "source": [
    "# Pattern"
   ]
  },
  {
   "cell_type": "markdown",
   "id": "350d6454",
   "metadata": {},
   "source": [
    "## Square pattern"
   ]
  },
  {
   "cell_type": "raw",
   "id": "c5e5a70d-2a12-4ad3-9683-203718144920",
   "metadata": {},
   "source": [
    "****\n",
    "****\n",
    "****\n",
    "****"
   ]
  },
  {
   "cell_type": "code",
   "execution_count": 4,
   "id": "aa1a390e",
   "metadata": {},
   "outputs": [
    {
     "name": "stdout",
     "output_type": "stream",
     "text": [
      "4\n",
      "****\n",
      "****\n",
      "****\n",
      "****\n"
     ]
    }
   ],
   "source": [
    "N = int(input())\n",
    "i = 1\n",
    "\n",
    "while i <= N:\n",
    "    j =  1\n",
    "    while j <= N:\n",
    "        print(\"*\", end=\"\")\n",
    "        j += 1\n",
    "    i += 1\n",
    "    print()"
   ]
  },
  {
   "cell_type": "raw",
   "id": "dc00a4d3",
   "metadata": {},
   "source": [
    "4444\n",
    "4444\n",
    "4444\n",
    "4444"
   ]
  },
  {
   "cell_type": "code",
   "execution_count": 5,
   "id": "7011f69c",
   "metadata": {},
   "outputs": [
    {
     "name": "stdout",
     "output_type": "stream",
     "text": [
      "4\n",
      "4444\n",
      "4444\n",
      "4444\n",
      "4444\n"
     ]
    }
   ],
   "source": [
    "N = int(input())\n",
    "i = 1\n",
    "\n",
    "while i <= N:\n",
    "    j =  1\n",
    "    while j <= N:\n",
    "        print(N, end=\"\")\n",
    "        j += 1\n",
    "    i += 1\n",
    "    print()"
   ]
  },
  {
   "cell_type": "raw",
   "id": "850e2bcb",
   "metadata": {},
   "source": [
    "1111\n",
    "2222\n",
    "3333\n",
    "4444"
   ]
  },
  {
   "cell_type": "code",
   "execution_count": 8,
   "id": "0c02485b",
   "metadata": {},
   "outputs": [
    {
     "name": "stdout",
     "output_type": "stream",
     "text": [
      "4\n",
      "1111\n",
      "2222\n",
      "3333\n",
      "4444\n"
     ]
    }
   ],
   "source": [
    "N = int(input())\n",
    "i = 1\n",
    "\n",
    "while i <= N:\n",
    "    j =  1\n",
    "    while j <= N:\n",
    "        print(i, end=\"\")\n",
    "        j += 1\n",
    "    i += 1\n",
    "    print()"
   ]
  },
  {
   "cell_type": "raw",
   "id": "37244ecf",
   "metadata": {},
   "source": [
    "1234\n",
    "1234\n",
    "1234\n",
    "1234"
   ]
  },
  {
   "cell_type": "code",
   "execution_count": 9,
   "id": "ef90bfcd",
   "metadata": {},
   "outputs": [
    {
     "name": "stdout",
     "output_type": "stream",
     "text": [
      "4\n",
      "1234\n",
      "1234\n",
      "1234\n",
      "1234\n"
     ]
    }
   ],
   "source": [
    "N = int(input())\n",
    "i = 1\n",
    "\n",
    "while i <= N:\n",
    "    j =  1\n",
    "    while j <= N:\n",
    "        print(j, end=\"\")\n",
    "        j += 1\n",
    "    i += 1\n",
    "    print()"
   ]
  },
  {
   "cell_type": "raw",
   "id": "4e7f5ad2",
   "metadata": {},
   "source": [
    "4321\n",
    "4321\n",
    "4321\n",
    "4321"
   ]
  },
  {
   "cell_type": "code",
   "execution_count": 10,
   "id": "c534dfc5",
   "metadata": {},
   "outputs": [
    {
     "name": "stdout",
     "output_type": "stream",
     "text": [
      "4\n",
      "4321\n",
      "4321\n",
      "4321\n",
      "4321\n"
     ]
    }
   ],
   "source": [
    "N = int(input())\n",
    "i = 1\n",
    "\n",
    "while i <= N:\n",
    "    j = 0\n",
    "    while j < N:\n",
    "        print(N - j, end=\"\")\n",
    "        j += 1\n",
    "    i += 1\n",
    "    print()"
   ]
  },
  {
   "cell_type": "markdown",
   "id": "3d9df3b4",
   "metadata": {},
   "source": [
    "## Traingular pattern"
   ]
  },
  {
   "cell_type": "raw",
   "id": "503205a7",
   "metadata": {},
   "source": [
    "1\n",
    "12\n",
    "123\n",
    "1234"
   ]
  },
  {
   "cell_type": "code",
   "execution_count": 19,
   "id": "0e713f59",
   "metadata": {},
   "outputs": [
    {
     "name": "stdout",
     "output_type": "stream",
     "text": [
      "4\n",
      "1\n",
      "12\n",
      "123\n",
      "1234\n"
     ]
    }
   ],
   "source": [
    "N = int(input())\n",
    "i = 1\n",
    "\n",
    "while i <= N:\n",
    "    j = 1\n",
    "    while j <= i:\n",
    "        print(j, end=\"\")\n",
    "        j += 1\n",
    "    i += 1\n",
    "    print()"
   ]
  },
  {
   "cell_type": "raw",
   "id": "5162b802",
   "metadata": {},
   "source": [
    "1\n",
    "23\n",
    "345\n",
    "4567"
   ]
  },
  {
   "cell_type": "code",
   "execution_count": 17,
   "id": "3b8096f7",
   "metadata": {},
   "outputs": [
    {
     "name": "stdout",
     "output_type": "stream",
     "text": [
      "4\n",
      "1\n",
      "23\n",
      "345\n",
      "4567\n"
     ]
    }
   ],
   "source": [
    "N = int(input())\n",
    "i = 1\n",
    "\n",
    "while i <= N:\n",
    "    j = 1\n",
    "    k = i\n",
    "    while j <= i:\n",
    "        print(k, end=\"\")\n",
    "        j += 1\n",
    "        k += 1\n",
    "    i += 1\n",
    "    print()"
   ]
  },
  {
   "cell_type": "raw",
   "id": "7eb2687d",
   "metadata": {},
   "source": [
    "1\n",
    "23\n",
    "456\n",
    "78910"
   ]
  },
  {
   "cell_type": "code",
   "execution_count": 18,
   "id": "1790b1ad",
   "metadata": {},
   "outputs": [
    {
     "name": "stdout",
     "output_type": "stream",
     "text": [
      "4\n",
      "1\n",
      "23\n",
      "456\n",
      "78910\n"
     ]
    }
   ],
   "source": [
    "N = int(input())\n",
    "i = 1\n",
    "k =  1\n",
    "while i <= N:\n",
    "    j = 1\n",
    "    while j <= i:\n",
    "        print(k, end=\"\")\n",
    "        j += 1\n",
    "        k += 1\n",
    "    i += 1\n",
    "    print()"
   ]
  },
  {
   "cell_type": "markdown",
   "id": "7a9bc6d0",
   "metadata": {},
   "source": [
    "## Character pattern"
   ]
  },
  {
   "cell_type": "code",
   "execution_count": 25,
   "id": "f585ac04",
   "metadata": {},
   "outputs": [
    {
     "name": "stdout",
     "output_type": "stream",
     "text": [
      "4\n",
      "A\n",
      "BC\n",
      "CDE\n",
      "DEFG\n"
     ]
    }
   ],
   "source": [
    "N = int(input())\n",
    "i = 1\n",
    "l = 65\n",
    "while i <= N:\n",
    "    j = 1\n",
    "    k = l\n",
    "    while j <= i:\n",
    "        print(chr(k), end=\"\")\n",
    "        j += 1\n",
    "        k += 1\n",
    "    i += 1\n",
    "    l += 1\n",
    "    print()"
   ]
  },
  {
   "cell_type": "raw",
   "id": "7ea123d1",
   "metadata": {},
   "source": [
    "E\n",
    "DE\n",
    "CDE\n",
    "BCDE\n",
    "ABCDE"
   ]
  },
  {
   "cell_type": "code",
   "execution_count": 30,
   "id": "46f8d44d",
   "metadata": {},
   "outputs": [],
   "source": [
    "import string\n",
    "chars = string.ascii_uppercase"
   ]
  },
  {
   "cell_type": "code",
   "execution_count": 35,
   "id": "59cb4941",
   "metadata": {},
   "outputs": [
    {
     "name": "stdout",
     "output_type": "stream",
     "text": [
      "8\n",
      "H\n",
      "GH\n",
      "FGH\n",
      "EFGH\n",
      "DEFGH\n",
      "CDEFGH\n",
      "BCDEFGH\n",
      "ABCDEFGH\n"
     ]
    }
   ],
   "source": [
    "N = int(input())\n",
    "i = 1\n",
    "char_idx = N - 1\n",
    "while i <= N:\n",
    "    j = 1\n",
    "    temp_idx = char_idx\n",
    "    while j <= i:\n",
    "        print(chars[temp_idx], end=\"\")\n",
    "        j += 1\n",
    "        temp_idx += 1\n",
    "    i += 1\n",
    "    char_idx -= 1    \n",
    "    print()"
   ]
  },
  {
   "cell_type": "markdown",
   "id": "698ff46e",
   "metadata": {},
   "source": [
    "## Assignment 1"
   ]
  },
  {
   "cell_type": "raw",
   "id": "be7b442c",
   "metadata": {},
   "source": [
    "1\n",
    "11\n",
    "202\n",
    "3003\n",
    "40004"
   ]
  },
  {
   "cell_type": "code",
   "execution_count": 39,
   "id": "af1f9d89",
   "metadata": {},
   "outputs": [
    {
     "name": "stdout",
     "output_type": "stream",
     "text": [
      "6\n",
      "1\n",
      "11\n",
      "202\n",
      "3003\n",
      "40004\n",
      "500005\n"
     ]
    }
   ],
   "source": [
    "N = int(input())\n",
    "\n",
    "if N == 1:\n",
    "    print(\"1\")\n",
    "elif N == 2:\n",
    "    print(\"11\")\n",
    "else:\n",
    "    print(\"1\")\n",
    "    print(\"11\")\n",
    "    calc_zeros = [\"0\"*(i - 1) for i in range(2, N)]\n",
    "    i = 2\n",
    "    for a in calc_zeros:\n",
    "        print(str(i) + a + str(i))\n",
    "        i += 1"
   ]
  },
  {
   "cell_type": "raw",
   "id": "1a882dd4",
   "metadata": {},
   "source": [
    "1234\n",
    "123\n",
    "12\n",
    "1"
   ]
  },
  {
   "cell_type": "code",
   "execution_count": 42,
   "id": "e3514f96",
   "metadata": {},
   "outputs": [
    {
     "name": "stdout",
     "output_type": "stream",
     "text": [
      "4\n",
      "1234\n",
      "123\n",
      "12\n",
      "1\n"
     ]
    }
   ],
   "source": [
    "N = int(input())\n",
    "\n",
    "i = 1\n",
    "k = N\n",
    "while i <= N:\n",
    "    j = 1\n",
    "    while j <= k:\n",
    "        print(j, end=\"\")\n",
    "        j += 1\n",
    "    i += 1\n",
    "    k -= 1\n",
    "    print()"
   ]
  },
  {
   "cell_type": "markdown",
   "id": "cf7f0285-ac1d-449a-bd77-cda7746537d9",
   "metadata": {},
   "source": [
    "## Reversed pattern"
   ]
  },
  {
   "cell_type": "raw",
   "id": "46498427-d05f-4027-af4b-49e55139fd87",
   "metadata": {},
   "source": [
    "   *   \n",
    "  **\n",
    " ***\n",
    "****    "
   ]
  },
  {
   "cell_type": "code",
   "execution_count": 4,
   "id": "61bae0c8",
   "metadata": {},
   "outputs": [
    {
     "name": "stdin",
     "output_type": "stream",
     "text": [
      " 4\n"
     ]
    },
    {
     "name": "stdout",
     "output_type": "stream",
     "text": [
      "   *\n",
      "  **\n",
      " ***\n",
      "****\n"
     ]
    }
   ],
   "source": [
    "N = int(input())\n",
    "\n",
    "i = 1\n",
    "k = N\n",
    "while i <= N:\n",
    "    j = 1\n",
    "    while j < k:\n",
    "        print(\" \", end=\"\")\n",
    "        j += 1\n",
    "    \n",
    "    j = 1\n",
    "    while j <= i:\n",
    "        print(\"*\", end=\"\")\n",
    "        j += 1\n",
    "    \n",
    "    k -= 1\n",
    "    i += 1\n",
    "    print()"
   ]
  },
  {
   "cell_type": "code",
   "execution_count": 8,
   "id": "be606a64-5442-4eb2-ad69-db57d3e9d9d0",
   "metadata": {},
   "outputs": [
    {
     "name": "stdin",
     "output_type": "stream",
     "text": [
      " 10\n"
     ]
    },
    {
     "name": "stdout",
     "output_type": "stream",
     "text": [
      "         *\n",
      "        **\n",
      "       ***\n",
      "      ****\n",
      "     *****\n",
      "    ******\n",
      "   *******\n",
      "  ********\n",
      " *********\n",
      "**********\n"
     ]
    }
   ],
   "source": [
    "N =  int(input())\n",
    "for i in range(N):\n",
    "    for j in range(N - i - 1):\n",
    "        print(\" \", end=\"\")\n",
    "    for k in range(i + 1):\n",
    "        print(\"*\", end=\"\")\n",
    "    print()"
   ]
  },
  {
   "cell_type": "markdown",
   "id": "d75df307-7dbc-4bb1-8d24-75651eda2df7",
   "metadata": {},
   "source": [
    "## Isoceles pattern"
   ]
  },
  {
   "cell_type": "raw",
   "id": "42765d9b-557f-43b1-95eb-f8fd9a7a9721",
   "metadata": {},
   "source": [
    "   1\n",
    "  121\n",
    " 12331\n",
    "1234321"
   ]
  },
  {
   "cell_type": "code",
   "execution_count": 25,
   "id": "a4558d6f-4542-4f9c-8304-a7cee71d9eb1",
   "metadata": {},
   "outputs": [
    {
     "name": "stdin",
     "output_type": "stream",
     "text": [
      " 9\n"
     ]
    },
    {
     "name": "stdout",
     "output_type": "stream",
     "text": [
      "        1\n",
      "       121\n",
      "      12321\n",
      "     1234321\n",
      "    123454321\n",
      "   12345654321\n",
      "  1234567654321\n",
      " 123456787654321\n",
      "12345678987654321\n"
     ]
    }
   ],
   "source": [
    "N = int(input())\n",
    "\n",
    "i = 1\n",
    "k = N\n",
    "while i <= N:\n",
    "    j = 1\n",
    "    while j < k:\n",
    "        print(\" \", end=\"\")\n",
    "        j += 1\n",
    "    \n",
    "    j = 1\n",
    "    while j <= i:\n",
    "        print(j, end=\"\")\n",
    "        j += 1\n",
    "    \n",
    "    l = i - 1\n",
    "    while l >= 1:\n",
    "        print(l, end=\"\")\n",
    "        l -= 1\n",
    "    \n",
    "    k -= 1\n",
    "    i += 1\n",
    "    print()"
   ]
  },
  {
   "cell_type": "raw",
   "id": "d6bcfa27-02a0-4b13-984a-7dfd937ad6c5",
   "metadata": {},
   "source": [
    "   1\n",
    "  232\n",
    " 34543\n",
    "4567654"
   ]
  },
  {
   "cell_type": "code",
   "execution_count": 34,
   "id": "69d732b1-b248-4bfd-9a5c-3ce7664001d1",
   "metadata": {},
   "outputs": [
    {
     "name": "stdin",
     "output_type": "stream",
     "text": [
      " 5\n"
     ]
    },
    {
     "name": "stdout",
     "output_type": "stream",
     "text": [
      "    1\n",
      "   232\n",
      "  34543\n",
      " 4567654\n",
      "567898765\n"
     ]
    }
   ],
   "source": [
    "N = int(input())\n",
    "\n",
    "i = 1\n",
    "k = N\n",
    "u_i = 1\n",
    "while i <= N:\n",
    "    \n",
    "    # Space printing \n",
    "    j = 1\n",
    "    while j < k:\n",
    "        print(\" \", end=\"\")\n",
    "        j += 1\n",
    "    \n",
    "    # Increasing numbers\n",
    "    j = 1\n",
    "    temp = u_i\n",
    "    while j < i:\n",
    "        print(temp, end=\"\")\n",
    "        j += 1\n",
    "        temp += 1\n",
    "    \n",
    "    # Decreasing numbers\n",
    "    l = temp\n",
    "    while l >= u_i:\n",
    "        print(l, end=\"\")\n",
    "        l -= 1\n",
    "    \n",
    "    k -= 1\n",
    "    i += 1\n",
    "    u_i += 1\n",
    "    print()"
   ]
  },
  {
   "cell_type": "markdown",
   "id": "7c3f40bc-a22c-4670-9b6a-d8269aef88e5",
   "metadata": {},
   "source": [
    "## Diamond of stars"
   ]
  },
  {
   "cell_type": "code",
   "execution_count": 76,
   "id": "53e0a166-7e19-47f5-bce7-a98322d62820",
   "metadata": {},
   "outputs": [
    {
     "name": "stdin",
     "output_type": "stream",
     "text": [
      " 9\n"
     ]
    },
    {
     "name": "stdout",
     "output_type": "stream",
     "text": [
      "    *\n",
      "   ***\n",
      "  *****\n",
      " *******\n",
      "*********\n",
      " *******\n",
      "  *****\n",
      "   ***\n",
      "    *\n"
     ]
    }
   ],
   "source": [
    "N = int(input())\n",
    "\n",
    "n1 = (N + 1)//2\n",
    "n2 = N//2\n",
    "\n",
    "i = 1\n",
    "k = n1\n",
    "while i <= n1:\n",
    "    j = 1\n",
    "    while j < k:\n",
    "        print(\" \", end=\"\")\n",
    "        j += 1\n",
    "    \n",
    "    j = 1\n",
    "    while j <= i:\n",
    "        print(\"*\", end=\"\")\n",
    "        j += 1\n",
    "    \n",
    "    l = i - 1\n",
    "    while l >= 1:\n",
    "        print(\"*\", end=\"\")\n",
    "        l -= 1\n",
    "\n",
    "    k -= 1\n",
    "    i += 1\n",
    "    print()\n",
    "\n",
    "i = 1\n",
    "p = n2\n",
    "while i <= n2:\n",
    "    j = 1\n",
    "    while j <= i:\n",
    "        print(\" \", end=\"\")\n",
    "        j += 1\n",
    "    \n",
    "    k = 1\n",
    "    while k <= n2 - i + 1:\n",
    "        print(\"*\", end=\"\")\n",
    "        k += 1\n",
    "    \n",
    "    l = 1\n",
    "    while l <= p - 1:\n",
    "        print(\"*\", end=\"\")\n",
    "        l += 1\n",
    "    \n",
    "    p -= 1\n",
    "    i += 1\n",
    "    print()"
   ]
  },
  {
   "cell_type": "markdown",
   "id": "e55a365f-425d-4d4b-a8da-160a547a81e3",
   "metadata": {},
   "source": [
    "## Assignment 2"
   ]
  },
  {
   "cell_type": "code",
   "execution_count": 21,
   "id": "d8ec2913-5b30-40f8-81b8-1e92f53920a0",
   "metadata": {},
   "outputs": [
    {
     "name": "stdin",
     "output_type": "stream",
     "text": [
      " 9\n"
     ]
    },
    {
     "name": "stdout",
     "output_type": "stream",
     "text": [
      "1                1\n",
      "12              21\n",
      "123            321\n",
      "1234          4321\n",
      "12345        54321\n",
      "123456      654321\n",
      "1234567    7654321\n",
      "12345678  87654321\n",
      "123456789987654321\n"
     ]
    }
   ],
   "source": [
    "N = int(input())\n",
    "\n",
    "i = 1\n",
    "l = 0\n",
    "add = 0\n",
    "while i <= N:\n",
    "    space_idxs = [m + 1 for m in range(i + 1, 2*N - l)]\n",
    "    \n",
    "    first_half = 1\n",
    "    while first_half <= i:\n",
    "        print(first_half, end=\"\")\n",
    "        first_half += 1\n",
    "    \n",
    "    space = 1\n",
    "    while space <= 2*N:\n",
    "        if space in space_idxs:\n",
    "            print(\" \", end=\"\")\n",
    "        space += 1    \n",
    "        \n",
    "    second_half = 1 + add\n",
    "    while second_half >= 1:\n",
    "        print(second_half, end=\"\")\n",
    "        second_half -= 1\n",
    "    \n",
    "    l += 1\n",
    "    i += 1\n",
    "    add += 1\n",
    "    print()"
   ]
  },
  {
   "cell_type": "raw",
   "id": "12f6cf36-0cca-473a-b85f-9fba414e85f4",
   "metadata": {},
   "source": [
    "*\n",
    " **\n",
    "  ***\n",
    "   ****\n",
    "  ***\n",
    " **\n",
    "*"
   ]
  },
  {
   "cell_type": "code",
   "execution_count": 13,
   "id": "f40660ae-a5a4-4d9f-b5cf-ec869c0526a8",
   "metadata": {},
   "outputs": [
    {
     "name": "stdin",
     "output_type": "stream",
     "text": [
      " 5\n"
     ]
    },
    {
     "name": "stdout",
     "output_type": "stream",
     "text": [
      " * \n",
      "  * * \n",
      "   * * * \n",
      "  * * \n",
      " * \n"
     ]
    }
   ],
   "source": [
    "N = int(input())\n",
    "\n",
    "n1 = (N + 1)//2\n",
    "n2 = n1 - 1\n",
    "\n",
    "i = 1\n",
    "while i <= n1:\n",
    "    j = 1\n",
    "    while j <= i:\n",
    "        print(\" \", end=\"\")\n",
    "        j += 1\n",
    "    \n",
    "    j = 1\n",
    "    while j <= i:\n",
    "        print(\"* \", end=\"\")\n",
    "        j += 1\n",
    "    \n",
    "    i += 1\n",
    "    print()\n",
    "\n",
    "i = 1\n",
    "while i <= n2:\n",
    "    j = 1\n",
    "    while j <= n2 - i + 1:\n",
    "        print(\" \", end=\"\")\n",
    "        j += 1\n",
    "    \n",
    "    j = 1\n",
    "    while j <= n2 - i + 1:\n",
    "        print(\"* \", end=\"\")\n",
    "        j += 1\n",
    "    \n",
    "    i += 1\n",
    "    print()"
   ]
  },
  {
   "cell_type": "markdown",
   "id": "b03814ae-162f-494e-b636-6296ba011641",
   "metadata": {},
   "source": [
    "## More on loops"
   ]
  },
  {
   "cell_type": "raw",
   "id": "6efd0393-f533-47e8-bf79-8519c88b487d",
   "metadata": {},
   "source": [
    " 1    2   3    4   5\n",
    " 11   12  13   14  15\n",
    " 21   22  23   24  25\n",
    " 16   17  18   19  20\n",
    " 6    7    8   9   10"
   ]
  },
  {
   "cell_type": "raw",
   "id": "d2ad2db9-2950-4ef9-9ace-94d25bbefb1f",
   "metadata": {},
   "source": [
    "(1) 1    2   3    4   5  1\n",
    "(2) 11   12  13   14  15 \n",
    "(3) 21   22  23   24  25\n",
    "(4) 16   17  18   19  20\n",
    "(5) 6    7    8   9   10 N"
   ]
  }
 ],
 "metadata": {
  "kernelspec": {
   "display_name": "Python 3 (ipykernel)",
   "language": "python",
   "name": "python3"
  },
  "language_info": {
   "codemirror_mode": {
    "name": "ipython",
    "version": 3
   },
   "file_extension": ".py",
   "mimetype": "text/x-python",
   "name": "python",
   "nbconvert_exporter": "python",
   "pygments_lexer": "ipython3",
   "version": "3.9.12"
  },
  "toc": {
   "base_numbering": 1,
   "nav_menu": {},
   "number_sections": true,
   "sideBar": true,
   "skip_h1_title": false,
   "title_cell": "Table of Contents",
   "title_sidebar": "Contents",
   "toc_cell": false,
   "toc_position": {
    "height": "565.6px",
    "left": "38px",
    "top": "110.525px",
    "width": "221.225px"
   },
   "toc_section_display": true,
   "toc_window_display": true
  }
 },
 "nbformat": 4,
 "nbformat_minor": 5
}
