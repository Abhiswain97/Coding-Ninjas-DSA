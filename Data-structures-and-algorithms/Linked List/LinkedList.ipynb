{
 "cells": [
  {
   "cell_type": "code",
   "execution_count": 4,
   "id": "9f336767-8a1b-4104-8288-e8b7b7893f95",
   "metadata": {},
   "outputs": [],
   "source": [
    "class Node:\n",
    "    def __init__(self, data):\n",
    "        self.data = data\n",
    "        self.next = None"
   ]
  },
  {
   "cell_type": "code",
   "execution_count": 1,
   "id": "5a82c306-1b57-4686-b6e4-82a8e240ba3f",
   "metadata": {},
   "outputs": [],
   "source": [
    "class LinkedList:\n",
    "    def __init__(self):\n",
    "        self.head = None\n",
    "\n",
    "    def insert_begin(self, data):\n",
    "        if self.head is None:\n",
    "            new_node = Node(data)\n",
    "            self.head = new_node\n",
    "        else:\n",
    "            new_node = Node(data)\n",
    "            new_node.next = self.head\n",
    "            self.head = new_node\n",
    "\n",
    "    def insert_end(self, data):\n",
    "        new_node = Node(data)\n",
    "        if self.head is None:\n",
    "            self.head = new_node\n",
    "        else:\n",
    "            temp = self.head\n",
    "            while temp.next:\n",
    "                temp = temp.next\n",
    "            temp.next = new_node\n",
    "\n",
    "    def length(self):\n",
    "        temp = self.head\n",
    "        count = 0\n",
    "        while temp.next:\n",
    "            count += 1\n",
    "            temp = temp.next\n",
    "\n",
    "        return count\n",
    "\n",
    "    def insert_at_pos(self, data, pos):\n",
    "        current = self.head.next\n",
    "        back = self.head\n",
    "        length = self.length()\n",
    "\n",
    "        new_node = Node(data)\n",
    "\n",
    "        if pos == 0:\n",
    "            self.head = new_node\n",
    "        elif pos <= length:\n",
    "            idx = 1\n",
    "            while current.next:\n",
    "                if idx == pos:\n",
    "                    back.next = new_node\n",
    "                    new_node.next = current\n",
    "                    break\n",
    "                else:\n",
    "                    idx += 1\n",
    "                    current = current.next\n",
    "                    back = back.next\n",
    "        else:\n",
    "            print(\n",
    "                \"Please enter a position which is less than the length of the LinkedList\"\n",
    "            )\n",
    "\n",
    "    def delete_at_pos(self, pos):\n",
    "        current = self.head.next\n",
    "        back = self.head\n",
    "        length = self.length()\n",
    "\n",
    "        if pos == 0:\n",
    "            self.head = self.head.next\n",
    "        elif pos < length:\n",
    "            idx = 1\n",
    "            while current.next:\n",
    "                if idx == pos:\n",
    "                    back.next = current.next\n",
    "                    current.next = None\n",
    "                else:\n",
    "                    idx += 1\n",
    "                    current = current.next\n",
    "                    back = back.next\n",
    "        else:\n",
    "            print(\n",
    "                \"Please enter a position which is less than the length of the LinkedList\"\n",
    "            )\n",
    "\n",
    "    def print_list(self):\n",
    "        temp = self.head\n",
    "        while temp.next:\n",
    "            print(f\"{temp.data} => \", end=\"\")\n",
    "            temp = temp.next\n",
    "        print(\"None\")"
   ]
  },
  {
   "cell_type": "code",
   "execution_count": 68,
   "id": "c70355de-7a72-481e-89a2-a87e781da694",
   "metadata": {},
   "outputs": [],
   "source": [
    "ll = LinkedList()"
   ]
  },
  {
   "cell_type": "code",
   "execution_count": 69,
   "id": "e4198139-13fd-42e5-8259-8016228dc55a",
   "metadata": {},
   "outputs": [],
   "source": [
    "import random\n",
    "\n",
    "for _ in range(5):\n",
    "    ll.insert_begin(random.randint(1, 100))"
   ]
  },
  {
   "cell_type": "code",
   "execution_count": 70,
   "id": "0eb5542d-437e-40f5-a0ea-551c250186dc",
   "metadata": {},
   "outputs": [
    {
     "name": "stdout",
     "output_type": "stream",
     "text": [
      "89 => 92 => 26 => 57 => None\n"
     ]
    }
   ],
   "source": [
    "ll.print_list()"
   ]
  },
  {
   "cell_type": "code",
   "execution_count": 71,
   "id": "e018f019-168f-485f-a6c7-0a80d8cc60fc",
   "metadata": {},
   "outputs": [],
   "source": [
    "ll.delete_at_pos(0)"
   ]
  },
  {
   "cell_type": "code",
   "execution_count": 72,
   "id": "b535b097-9089-4889-a4ea-0cd15ddf924b",
   "metadata": {},
   "outputs": [
    {
     "name": "stdout",
     "output_type": "stream",
     "text": [
      "92 => 26 => 57 => None\n"
     ]
    }
   ],
   "source": [
    "ll.print_list()"
   ]
  },
  {
   "cell_type": "code",
   "execution_count": 73,
   "id": "95bcb37e-a30b-46da-bed1-26e0024cc1cc",
   "metadata": {},
   "outputs": [],
   "source": [
    "ll.insert_at_pos(data=1000, pos=1)"
   ]
  },
  {
   "cell_type": "code",
   "execution_count": 74,
   "id": "a99d6e2b-993f-46c5-8bf4-7db3e22adc43",
   "metadata": {},
   "outputs": [
    {
     "name": "stdout",
     "output_type": "stream",
     "text": [
      "92 => 1000 => 26 => 57 => None\n"
     ]
    }
   ],
   "source": [
    "ll.print_list()"
   ]
  },
  {
   "cell_type": "code",
   "execution_count": 75,
   "id": "7b73f0b4-1aaa-42b2-9ca1-275c595a342d",
   "metadata": {},
   "outputs": [],
   "source": [
    "ll.insert_at_pos(300, 3)"
   ]
  },
  {
   "cell_type": "code",
   "execution_count": 76,
   "id": "6870aa27-c79f-4902-9913-46c2a8b983b0",
   "metadata": {},
   "outputs": [
    {
     "name": "stdout",
     "output_type": "stream",
     "text": [
      "92 => 1000 => 26 => 300 => 57 => None\n"
     ]
    }
   ],
   "source": [
    "ll.print_list()"
   ]
  },
  {
   "cell_type": "code",
   "execution_count": 77,
   "id": "dea369b1-d3d6-4dbf-a580-b60959e18529",
   "metadata": {},
   "outputs": [],
   "source": [
    "ll.insert_at_pos(100, 4)"
   ]
  },
  {
   "cell_type": "code",
   "execution_count": 78,
   "id": "e4323477-c129-4fef-92e0-4092ed112299",
   "metadata": {},
   "outputs": [
    {
     "name": "stdout",
     "output_type": "stream",
     "text": [
      "92 => 1000 => 26 => 300 => 100 => 57 => None\n"
     ]
    }
   ],
   "source": [
    "ll.print_list()"
   ]
  },
  {
   "cell_type": "code",
   "execution_count": 79,
   "id": "83a8f02e-6fb6-4f04-8e69-c9d78ef3d8d2",
   "metadata": {},
   "outputs": [],
   "source": [
    "ll.insert_at_pos(100, 5)"
   ]
  },
  {
   "cell_type": "code",
   "execution_count": 80,
   "id": "199b6188-e110-4d54-8533-85eba4704a59",
   "metadata": {},
   "outputs": [
    {
     "name": "stdout",
     "output_type": "stream",
     "text": [
      "92 => 1000 => 26 => 300 => 100 => 100 => 57 => None\n"
     ]
    }
   ],
   "source": [
    "ll.print_list()"
   ]
  },
  {
   "cell_type": "code",
   "execution_count": 3,
   "id": "1008b9c9-bb4c-4086-a441-1ac2bf2abd5b",
   "metadata": {},
   "outputs": [],
   "source": [
    "def length(head):\n",
    "    current = head\n",
    "    count = 0\n",
    "    while current.next:\n",
    "        count += 1\n",
    "        current = current.next\n",
    "    return count\n",
    "\n",
    "def append_last_n_to_beginning(head, n):\n",
    "    l = length(head)\n",
    "    if n < l:\n",
    "        steps = l - n\n",
    "        tail = head \n",
    "        while steps > 0:\n",
    "            tail = tail.next\n",
    "            steps -= 1\n",
    "        \n",
    "        # Setup new_head to be next of tail\n",
    "        new_head = tail.next\n",
    "        \n",
    "        # Cut the tail from new_head\n",
    "        tail.next = None\n",
    "        \n",
    "        # Traverse new_head to the end\n",
    "        current = new_head\n",
    "        while current.next:\n",
    "            current = current.next\n",
    "            \n",
    "        # Connect the current to the beginning\n",
    "        current.next = head.next\n",
    "        \n",
    "        # Point head to new_head\n",
    "        head = new_head\n",
    "        \n",
    "        return head\n",
    "            \n",
    "    "
   ]
  },
  {
   "cell_type": "code",
   "execution_count": null,
   "id": "540bcfa6-f1a4-4fdb-8304-2792caa1b436",
   "metadata": {},
   "outputs": [],
   "source": []
  }
 ],
 "metadata": {
  "kernelspec": {
   "display_name": "Python 3 (ipykernel)",
   "language": "python",
   "name": "python3"
  },
  "language_info": {
   "codemirror_mode": {
    "name": "ipython",
    "version": 3
   },
   "file_extension": ".py",
   "mimetype": "text/x-python",
   "name": "python",
   "nbconvert_exporter": "python",
   "pygments_lexer": "ipython3",
   "version": "3.9.12"
  },
  "toc-autonumbering": false
 },
 "nbformat": 4,
 "nbformat_minor": 5
}
