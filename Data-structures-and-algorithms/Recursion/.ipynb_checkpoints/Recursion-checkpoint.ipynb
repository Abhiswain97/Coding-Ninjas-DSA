{
 "cells": [
  {
   "cell_type": "markdown",
   "id": "76c23250-80c2-4312-a0e8-6681d422b705",
   "metadata": {},
   "source": [
    "# Recursion"
   ]
  },
  {
   "cell_type": "markdown",
   "id": "af860bc8-aa13-443b-bf58-c869afe28dd7",
   "metadata": {},
   "source": [
    "## Factorial of a number\n",
    "\n",
    "$N! = N * (N-1) * (N-2) * \\dots$\n",
    "\n",
    "\n",
    "To calculate factorial of N, Fact(N) it calls Fact(N-1) which call Fact(N-2) & so on. This fits perfectly into the paradigm of Recursion. We can define a function which calls itself with decreasingly smaller inputs to solve this"
   ]
  },
  {
   "cell_type": "code",
   "execution_count": 7,
   "id": "e6533828-e58f-4c88-b24f-2e58ce4ac9dd",
   "metadata": {},
   "outputs": [],
   "source": [
    "def factorial(n):\n",
    "    if n <= 1: # Base case\n",
    "        return 1\n",
    "    \n",
    "    return n * factorial(n-1)"
   ]
  },
  {
   "cell_type": "code",
   "execution_count": 10,
   "id": "b1fb081e-79b3-47ab-8821-e06c88afc176",
   "metadata": {},
   "outputs": [
    {
     "name": "stdin",
     "output_type": "stream",
     "text": [
      " 10\n"
     ]
    },
    {
     "data": {
      "text/plain": [
       "3628800"
      ]
     },
     "execution_count": 10,
     "metadata": {},
     "output_type": "execute_result"
    }
   ],
   "source": [
    "n = int(input())\n",
    "factorial(n)"
   ]
  },
  {
   "cell_type": "markdown",
   "id": "49d2da70-61db-4c33-9044-0ec9d4e73d77",
   "metadata": {},
   "source": [
    "## Merge Sort"
   ]
  },
  {
   "cell_type": "code",
   "execution_count": 5,
   "id": "b6b96496-ef37-4d44-9cdc-2728eb7b76ac",
   "metadata": {},
   "outputs": [],
   "source": [
    "def merge_sorted_list(arr1, arr2, arr):\n",
    "    i, j, k = 0, 0, 0\n",
    "    while i < len(arr1) and j < len(arr2):\n",
    "        if arr1[i] < arr2[j]:\n",
    "            arr[k] = arr1[i]\n",
    "            i += 1\n",
    "            k += 1\n",
    "        else:\n",
    "            arr[k] = arr2[j]\n",
    "            j += 1\n",
    "            k += 1\n",
    "            \n",
    "    while i < len(arr1):\n",
    "        arr[k] = arr1[i]\n",
    "        i += 1\n",
    "        k += 1\n",
    "    \n",
    "    while j < len(arr2):\n",
    "        arr[k] = arr2[j]\n",
    "        j += 1\n",
    "        k += 1\n",
    "    \n",
    "def merge_sort(arr):\n",
    "    if len(arr) <= 1:\n",
    "        return\n",
    "    \n",
    "    mid = len(arr)//2\n",
    "    a1 = arr[:mid]\n",
    "    a2 = arr[mid:]\n",
    "    \n",
    "    merge_sort(a1)\n",
    "    merge_sort(a2)\n",
    "    merge_sorted_list(a1, a2, arr)"
   ]
  },
  {
   "cell_type": "code",
   "execution_count": 6,
   "id": "aa4d3a3e-45b3-4e98-affc-4633918b9bd8",
   "metadata": {},
   "outputs": [
    {
     "name": "stdout",
     "output_type": "stream",
     "text": [
      "[2, 3, 5, 6, 7, 10]\n"
     ]
    }
   ],
   "source": [
    "arr = [3, 2, 5, 6, 10, 7]\n",
    "merge_sort(arr)\n",
    "print(arr)"
   ]
  },
  {
   "cell_type": "markdown",
   "id": "0274cf1d-9cae-4d4b-a029-8f6287bc4d15",
   "metadata": {},
   "source": [
    "## Quick Sort"
   ]
  },
  {
   "cell_type": "code",
   "execution_count": 20,
   "id": "b12f78dd-98c6-4feb-8adb-6030fde74374",
   "metadata": {},
   "outputs": [],
   "source": [
    "def partition(arr, si, ei):\n",
    "    pivot = arr[si]\n",
    "    pos = 0\n",
    "    for i in range(si, ei):\n",
    "        if arr[i] < pivot:\n",
    "            pos += 1\n",
    "            \n",
    "    pivot_idx = si + pos \n",
    "    arr[si + pos], arr[pos] = arr[pos], arr[si + pos]\n",
    "\n",
    "    i, j = si, ei\n",
    "    while i < j:\n",
    "        if arr[i] < pivot:\n",
    "            i += 1\n",
    "        elif arr[j] > pivot:\n",
    "            j -= 1\n",
    "        else:\n",
    "            arr[j], arr[i] = arr[i], arr[j]\n",
    "            i += 1\n",
    "            j -= 1\n",
    "            \n",
    "    return pivot_idx\n",
    "    \n",
    "def quick_sort(arr, si, ei):\n",
    "    if si >= ei:\n",
    "        return\n",
    "    \n",
    "    p = partition(arr, si, ei)\n",
    "    quick_sort(arr, si, p)\n",
    "    quick_sort(arr, p+1, ei)"
   ]
  },
  {
   "cell_type": "code",
   "execution_count": 21,
   "id": "04c2144c-31d5-4c14-b6ff-9cbb7523d203",
   "metadata": {},
   "outputs": [
    {
     "data": {
      "text/plain": [
       "[10, 3, 2, 5, 6, 7]"
      ]
     },
     "execution_count": 21,
     "metadata": {},
     "output_type": "execute_result"
    }
   ],
   "source": [
    "arr = [3, 2, 5, 6, 10, 7]\n",
    "quick_sort(arr, 0, len(arr)-1)\n",
    "arr"
   ]
  },
  {
   "cell_type": "markdown",
   "id": "62100921-b0dd-46af-a0f1-e0658f3c9d42",
   "metadata": {},
   "source": [
    "## Does s contain t ?"
   ]
  },
  {
   "cell_type": "code",
   "execution_count": 3,
   "id": "5e3df85b-b478-4736-b7af-fee209c9e0fd",
   "metadata": {},
   "outputs": [],
   "source": [
    "def check(s_local, c):\n",
    "    \"\"\"\n",
    "    Function to check if character in string\n",
    "    \"\"\"\n",
    "    if c in s_local:\n",
    "        return True\n",
    "    else:\n",
    "        return False\n",
    "\n",
    "def contains(s, t, s_idx, t_idx, new_str):\n",
    "    if t_idx == len(t):\n",
    "        return new_str\n",
    "    \n",
    "    c = t[t_idx]\n",
    "    if check(s[s_idx:], c):\n",
    "        new_str += c\n",
    "        return contains(s, t, s_idx + 1, t_idx + 1, new_str)\n",
    "    else:\n",
    "        return contains(s, t, s_idx + 1, t_idx, new_str)"
   ]
  },
  {
   "cell_type": "code",
   "execution_count": 4,
   "id": "821ca936-ddd4-4b10-a8b4-26e278d57c05",
   "metadata": {},
   "outputs": [
    {
     "name": "stdout",
     "output_type": "stream",
     "text": [
      "coding\n"
     ]
    }
   ],
   "source": [
    "s = \"abchjsgsuohhdhyrikkknddg\"\n",
    "t = \"coding\"\n",
    "\n",
    "print(contains(s, t, 0, 0, \"\"))"
   ]
  },
  {
   "cell_type": "code",
   "execution_count": null,
   "id": "1430a4b7-9dcc-4f81-84e6-08f84355dff3",
   "metadata": {},
   "outputs": [],
   "source": []
  }
 ],
 "metadata": {
  "kernelspec": {
   "display_name": "Python 3 (ipykernel)",
   "language": "python",
   "name": "python3"
  },
  "language_info": {
   "codemirror_mode": {
    "name": "ipython",
    "version": 3
   },
   "file_extension": ".py",
   "mimetype": "text/x-python",
   "name": "python",
   "nbconvert_exporter": "python",
   "pygments_lexer": "ipython3",
   "version": "3.9.12"
  },
  "toc-autonumbering": true
 },
 "nbformat": 4,
 "nbformat_minor": 5
}
