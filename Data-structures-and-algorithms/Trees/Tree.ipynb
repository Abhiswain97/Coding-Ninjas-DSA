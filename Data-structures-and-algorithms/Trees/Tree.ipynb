{
 "cells": [
  {
   "cell_type": "markdown",
   "id": "89f8bd66",
   "metadata": {},
   "source": [
    "# Binary Tree"
   ]
  },
  {
   "cell_type": "markdown",
   "id": "ed3dfb3a",
   "metadata": {},
   "source": [
    "## Node"
   ]
  },
  {
   "cell_type": "code",
   "execution_count": 2,
   "id": "1ec365bf",
   "metadata": {},
   "outputs": [],
   "source": [
    "class Node:\n",
    "    def __init__(self, data):\n",
    "        self.data = data\n",
    "        self.left = None\n",
    "        self.right = None"
   ]
  },
  {
   "cell_type": "code",
   "execution_count": 3,
   "id": "58a89fe3",
   "metadata": {},
   "outputs": [],
   "source": [
    "b1 = Node(1)\n",
    "b1.left = Node(2)\n",
    "b1.right = Node(3)\n",
    "b1.left.right = Node(4)\n",
    "b1.right.left = Node(5)\n",
    "b1.left.right.left = Node(6)"
   ]
  },
  {
   "cell_type": "markdown",
   "id": "0d5b33e8",
   "metadata": {},
   "source": [
    "## Printing the Tree"
   ]
  },
  {
   "cell_type": "code",
   "execution_count": 4,
   "id": "a0837e15",
   "metadata": {},
   "outputs": [],
   "source": [
    "def print_tree(root):\n",
    "    if root == None:\n",
    "        return \n",
    "    print(f\"{root.data}:\", end=\" \")\n",
    "    if root.left is not None:\n",
    "        print(f\"L {root.left.data}\", end=\" \")\n",
    "    else:\n",
    "        print(\"None\", end=\" \")\n",
    "    if root.right is not None:\n",
    "        print(f\"R {root.right.data}\", end=\" \")\n",
    "    else:\n",
    "        print(\"None\", end=\" \")\n",
    "    print()\n",
    "    print_tree(root.left)\n",
    "    print_tree(root.right)"
   ]
  },
  {
   "cell_type": "code",
   "execution_count": 5,
   "id": "2a7c22ed",
   "metadata": {},
   "outputs": [
    {
     "name": "stdout",
     "output_type": "stream",
     "text": [
      "1: L 2 R 3 \n",
      "2: None R 4 \n",
      "4: L 6 None \n",
      "6: None None \n",
      "3: L 5 None \n",
      "5: None None \n"
     ]
    }
   ],
   "source": [
    "print_tree(b1)"
   ]
  },
  {
   "cell_type": "markdown",
   "id": "2bb4f494",
   "metadata": {},
   "source": [
    "## Count Nodes in a Tree"
   ]
  },
  {
   "cell_type": "code",
   "execution_count": 6,
   "id": "ceb72a05",
   "metadata": {},
   "outputs": [],
   "source": [
    "def count_nodes(root):\n",
    "    if root == None: # Base case handles everything, no need to check for left or right being None\n",
    "        return 0\n",
    "    return 1 + count_nodes(root.left) + count_nodes(root.right)"
   ]
  },
  {
   "cell_type": "code",
   "execution_count": 7,
   "id": "2ba4d30f",
   "metadata": {},
   "outputs": [
    {
     "data": {
      "text/plain": [
       "6"
      ]
     },
     "execution_count": 7,
     "metadata": {},
     "output_type": "execute_result"
    }
   ],
   "source": [
    "count_nodes(b1)"
   ]
  },
  {
   "cell_type": "markdown",
   "id": "35d1f647",
   "metadata": {},
   "source": [
    "## Tree Traversals"
   ]
  },
  {
   "cell_type": "markdown",
   "id": "105dbf3c",
   "metadata": {},
   "source": [
    "### Pre Order"
   ]
  },
  {
   "cell_type": "code",
   "execution_count": 8,
   "id": "c68098ce",
   "metadata": {},
   "outputs": [],
   "source": [
    "def preorder(root):\n",
    "    if root is None:\n",
    "        return \n",
    "    print(root.data, end=\" \")\n",
    "    preorder(root.left)\n",
    "    preorder(root.right)"
   ]
  },
  {
   "cell_type": "code",
   "execution_count": 9,
   "id": "98994706",
   "metadata": {},
   "outputs": [
    {
     "name": "stdout",
     "output_type": "stream",
     "text": [
      "1 2 4 6 3 5 "
     ]
    }
   ],
   "source": [
    "preorder(b1)"
   ]
  },
  {
   "cell_type": "markdown",
   "id": "3229c03c",
   "metadata": {},
   "source": [
    "### Post Order "
   ]
  },
  {
   "cell_type": "code",
   "execution_count": 10,
   "id": "4755fcda",
   "metadata": {},
   "outputs": [],
   "source": [
    "def postorder(root):\n",
    "    if root is None:\n",
    "        return \n",
    "    preorder(root.left)\n",
    "    preorder(root.right)\n",
    "    print(root.data, end=\" \")\n"
   ]
  },
  {
   "cell_type": "code",
   "execution_count": 11,
   "id": "bf941a43",
   "metadata": {},
   "outputs": [
    {
     "name": "stdout",
     "output_type": "stream",
     "text": [
      "2 4 6 3 5 1 "
     ]
    }
   ],
   "source": [
    "postorder(b1)"
   ]
  },
  {
   "cell_type": "markdown",
   "id": "2b4a1d31",
   "metadata": {},
   "source": [
    "### Inorder"
   ]
  },
  {
   "cell_type": "code",
   "execution_count": 12,
   "id": "1474d27e",
   "metadata": {},
   "outputs": [],
   "source": [
    "def inorder(root):\n",
    "    if root is None:\n",
    "        return \n",
    "    preorder(root.left)\n",
    "    print(root.data, end=\" \")\n",
    "    preorder(root.right)\n",
    "    \n"
   ]
  },
  {
   "cell_type": "code",
   "execution_count": 13,
   "id": "1e0df682",
   "metadata": {},
   "outputs": [
    {
     "name": "stdout",
     "output_type": "stream",
     "text": [
      "2 4 6 1 3 5 "
     ]
    }
   ],
   "source": [
    "inorder(b1)"
   ]
  },
  {
   "cell_type": "markdown",
   "id": "47a5c606",
   "metadata": {},
   "source": [
    "## Largest data in a Binary Tree"
   ]
  },
  {
   "cell_type": "code",
   "execution_count": 14,
   "id": "49af60b3",
   "metadata": {},
   "outputs": [],
   "source": [
    "def largest_data(root):\n",
    "    if root is None:\n",
    "        return -1\n",
    "    llargest = largest_data(root.left)\n",
    "    rlargest = largest_data(root.right)\n",
    "    \n",
    "    return max(llargest, rlargest, root.data)"
   ]
  },
  {
   "cell_type": "code",
   "execution_count": 15,
   "id": "478f311e",
   "metadata": {},
   "outputs": [
    {
     "data": {
      "text/plain": [
       "6"
      ]
     },
     "execution_count": 15,
     "metadata": {},
     "output_type": "execute_result"
    }
   ],
   "source": [
    "largest_data(b1)"
   ]
  },
  {
   "cell_type": "markdown",
   "id": "54182c77",
   "metadata": {},
   "source": [
    "## Height of Tree"
   ]
  },
  {
   "cell_type": "code",
   "execution_count": 16,
   "id": "a4b079bb",
   "metadata": {},
   "outputs": [],
   "source": [
    "def height(root):\n",
    "    if root is None:\n",
    "        return 0\n",
    "    left = 1 + height(root.left)\n",
    "    right = 1 + height(root.right)\n",
    "\n",
    "    return (left if left > right else right)"
   ]
  },
  {
   "cell_type": "code",
   "execution_count": 17,
   "id": "78af001e",
   "metadata": {},
   "outputs": [
    {
     "data": {
      "text/plain": [
       "4"
      ]
     },
     "execution_count": 17,
     "metadata": {},
     "output_type": "execute_result"
    }
   ],
   "source": [
    "height(b1)"
   ]
  },
  {
   "cell_type": "markdown",
   "id": "732dfe9f",
   "metadata": {},
   "source": [
    "## Number of Leaf Nodes in a Tree"
   ]
  },
  {
   "cell_type": "code",
   "execution_count": 18,
   "id": "6a90050e",
   "metadata": {},
   "outputs": [],
   "source": [
    "def count_leafs(root):\n",
    "    if root is None:\n",
    "        return 0\n",
    "    \n",
    "    if root.left is None and root.right is None:\n",
    "        return 1\n",
    "    \n",
    "    lnum_leaf = count_leafs(root.left)\n",
    "    rnum_leaf = count_leafs(root.right)\n",
    "\n",
    "    return lnum_leaf + rnum_leaf\n"
   ]
  },
  {
   "cell_type": "code",
   "execution_count": 19,
   "id": "0405c087",
   "metadata": {},
   "outputs": [
    {
     "data": {
      "text/plain": [
       "2"
      ]
     },
     "execution_count": 19,
     "metadata": {},
     "output_type": "execute_result"
    }
   ],
   "source": [
    "count_leafs(b1)"
   ]
  },
  {
   "cell_type": "markdown",
   "id": "b7828652",
   "metadata": {},
   "source": [
    "## Print Nodes at depth K"
   ]
  },
  {
   "cell_type": "code",
   "execution_count": 20,
   "id": "fd04aad2",
   "metadata": {},
   "outputs": [],
   "source": [
    "def print_nodes_at_depth(root, k):\n",
    "    if root is None:\n",
    "        return \n",
    "    if k == 0:\n",
    "        print(root.data, end=\" \")\n",
    "        return\n",
    "    else:\n",
    "        print_nodes_at_depth(root.left, k-1)\n",
    "        print_nodes_at_depth(root.right, k-1)"
   ]
  },
  {
   "cell_type": "code",
   "execution_count": 21,
   "id": "c20832d9",
   "metadata": {},
   "outputs": [
    {
     "name": "stdout",
     "output_type": "stream",
     "text": [
      "4 5 "
     ]
    }
   ],
   "source": [
    "print_nodes_at_depth(b1, 2)"
   ]
  },
  {
   "cell_type": "code",
   "execution_count": 22,
   "id": "91791b69",
   "metadata": {},
   "outputs": [
    {
     "name": "stdout",
     "output_type": "stream",
     "text": [
      "1 "
     ]
    }
   ],
   "source": [
    "print_nodes_at_depth(b1, 0)"
   ]
  },
  {
   "cell_type": "code",
   "execution_count": 23,
   "id": "64d0f9da",
   "metadata": {},
   "outputs": [
    {
     "name": "stdout",
     "output_type": "stream",
     "text": [
      "2 3 "
     ]
    }
   ],
   "source": [
    "print_nodes_at_depth(b1, 1)"
   ]
  },
  {
   "cell_type": "code",
   "execution_count": 24,
   "id": "b71b6e5f",
   "metadata": {},
   "outputs": [],
   "source": [
    "def print_nodes_at_depth2(root, k, depth):\n",
    "    if root is None:\n",
    "        return\n",
    "    if k == depth:\n",
    "        print(root.data, end=\" \")\n",
    "        return \n",
    "    print_nodes_at_depth(root.left, k, depth + 1)\n",
    "    print_nodes_at_depth(root.right, k, depth + 1)"
   ]
  },
  {
   "cell_type": "markdown",
   "id": "d72a4754",
   "metadata": {},
   "source": [
    "## Replace nodes with depth"
   ]
  },
  {
   "cell_type": "code",
   "execution_count": 25,
   "id": "df823c9a",
   "metadata": {},
   "outputs": [],
   "source": [
    "def replace_nodes(root, depth=0):\n",
    "    if root is None:\n",
    "        return \n",
    "    root.data = depth\n",
    "    replace_nodes(root.left, depth + 1)\n",
    "    replace_nodes(root.right, depth + 1)"
   ]
  },
  {
   "cell_type": "code",
   "execution_count": 26,
   "id": "b012fff1",
   "metadata": {},
   "outputs": [],
   "source": [
    "# replace_nodes(b1)"
   ]
  },
  {
   "cell_type": "code",
   "execution_count": 27,
   "id": "32c059b2",
   "metadata": {},
   "outputs": [],
   "source": [
    "# inorder(b1)"
   ]
  },
  {
   "cell_type": "markdown",
   "id": "7ad9de2c-9666-4445-84b3-9bf1211eb602",
   "metadata": {},
   "source": [
    "## Is Node Present ?"
   ]
  },
  {
   "cell_type": "code",
   "execution_count": 28,
   "id": "e3f20f54-ba86-486c-ad4a-9d499514ee7e",
   "metadata": {},
   "outputs": [],
   "source": [
    "def isNodePresent(root, x):\n",
    "    if root is None:\n",
    "        return False\n",
    "    if root.data == x:\n",
    "        return True\n",
    "    left = isNodePresent(root.left, x)\n",
    "    right = isNodePresent(root.right, x)\n",
    "    \n",
    "    if left == True or right == True:\n",
    "        return True\n",
    "    else:\n",
    "        return False"
   ]
  },
  {
   "cell_type": "code",
   "execution_count": 29,
   "id": "944bd1fe-3b33-4bbf-b411-32c6f12681f0",
   "metadata": {},
   "outputs": [
    {
     "name": "stdout",
     "output_type": "stream",
     "text": [
      "1: L 2 R 3 \n",
      "2: None R 4 \n",
      "4: L 6 None \n",
      "6: None None \n",
      "3: L 5 None \n",
      "5: None None \n"
     ]
    }
   ],
   "source": [
    "print_tree(b1)"
   ]
  },
  {
   "cell_type": "code",
   "execution_count": 30,
   "id": "42381eba-fdd5-442a-bab9-a615a1c4b672",
   "metadata": {},
   "outputs": [
    {
     "data": {
      "text/plain": [
       "False"
      ]
     },
     "execution_count": 30,
     "metadata": {},
     "output_type": "execute_result"
    }
   ],
   "source": [
    "isNodePresent(b1, 10)"
   ]
  },
  {
   "cell_type": "code",
   "execution_count": 31,
   "id": "aaaae409-fc8f-479e-8380-15b3d9de8b99",
   "metadata": {},
   "outputs": [],
   "source": [
    "def printNodesWithoutSibling(root):\n",
    "    if root is None:\n",
    "        return\n",
    "\n",
    "    # Check if the current node has exactly one child\n",
    "    if (root.left is None and root.right is not None): \n",
    "        print(root.right.data)\n",
    "    \n",
    "    if (root.left is not None and root.right is None):\n",
    "        print(root.left.data)\n",
    "        \n",
    "    # Recursively check the left and right subtrees\n",
    "    printNodesWithoutSibling(root.left)\n",
    "    printNodesWithoutSibling(root.right)"
   ]
  },
  {
   "cell_type": "code",
   "execution_count": 32,
   "id": "71276335-59a8-4c97-84fd-797e6e991039",
   "metadata": {},
   "outputs": [
    {
     "name": "stdout",
     "output_type": "stream",
     "text": [
      "4\n",
      "6\n",
      "5\n"
     ]
    }
   ],
   "source": [
    "printNodesWithoutSibling(b1)"
   ]
  },
  {
   "cell_type": "markdown",
   "id": "a35a6391-ed29-4864-aeef-474863d4fc48",
   "metadata": {},
   "source": [
    "## Time Complexity\n",
    "\n",
    "$\n",
    "\\text{All the problems we did, had a constant pattern:} \\\\\n",
    "\\text{1. Each node we do some constant work.} \\\\ \n",
    "\\text{2. We traverse all the nodes.} \\\\\n",
    "\\text{3. Time Complexity: O(n)} \n",
    "$"
   ]
  },
  {
   "cell_type": "markdown",
   "id": "9d98f878-0f19-4d36-833e-cf4057ae6d94",
   "metadata": {},
   "source": [
    "## Remove leaf nodes"
   ]
  },
  {
   "cell_type": "code",
   "execution_count": 33,
   "id": "32347702-e562-4bc8-aef9-340f9c183970",
   "metadata": {},
   "outputs": [],
   "source": [
    "def remove_leafs(root):\n",
    "    if root is None:\n",
    "        return None\n",
    "    if root.left is None and root.right is None:\n",
    "        return None\n",
    "    root.left = remove_leafs(root.left)\n",
    "    root.right = remove_leafs(root.right)\n",
    "    \n",
    "    return root"
   ]
  },
  {
   "cell_type": "code",
   "execution_count": 34,
   "id": "cb697849-3e53-4956-8d0a-7b324dcfb9c9",
   "metadata": {},
   "outputs": [
    {
     "name": "stdout",
     "output_type": "stream",
     "text": [
      "1: L 2 R 3 \n",
      "2: None R 4 \n",
      "4: L 6 None \n",
      "6: None None \n",
      "3: L 5 None \n",
      "5: None None \n"
     ]
    }
   ],
   "source": [
    "print_tree(b1)"
   ]
  },
  {
   "cell_type": "code",
   "execution_count": 35,
   "id": "35dbf10c-164b-40c9-bfa9-df090106b6ed",
   "metadata": {},
   "outputs": [],
   "source": [
    "# root = remove_leafs(b1)"
   ]
  },
  {
   "cell_type": "code",
   "execution_count": 36,
   "id": "2a999a68-6ddb-4107-9cd2-8bb0b68513d9",
   "metadata": {},
   "outputs": [
    {
     "name": "stdout",
     "output_type": "stream",
     "text": [
      "1: L 2 R 3 \n",
      "2: None R 4 \n",
      "4: L 6 None \n",
      "6: None None \n",
      "3: L 5 None \n",
      "5: None None \n"
     ]
    }
   ],
   "source": [
    "print_tree(b1)"
   ]
  },
  {
   "cell_type": "markdown",
   "id": "2e2682d6-70bf-4a96-8c2e-dba6405eca56",
   "metadata": {},
   "source": [
    "## Mirror of a binary tree"
   ]
  },
  {
   "cell_type": "code",
   "execution_count": 37,
   "id": "2a2dd73c-5496-4ef9-b8a7-93c670673e4b",
   "metadata": {},
   "outputs": [],
   "source": [
    "def mirror_tree(root):\n",
    "    if root is None:\n",
    "        return \n",
    "    \n",
    "    m_node = Node(root.data)\n",
    "    \n",
    "    m_node.left = mirror_tree(root.right)\n",
    "    m_node.right = mirror_tree(root.left)\n",
    "    \n",
    "    return m_node"
   ]
  },
  {
   "cell_type": "code",
   "execution_count": 38,
   "id": "fa25f58b-f291-46e7-a5a3-e324d2c5751c",
   "metadata": {},
   "outputs": [
    {
     "name": "stdout",
     "output_type": "stream",
     "text": [
      "1: L 2 R 3 \n",
      "2: None R 4 \n",
      "4: L 6 None \n",
      "6: None None \n",
      "3: L 5 None \n",
      "5: None None \n"
     ]
    }
   ],
   "source": [
    "print_tree(b1)"
   ]
  },
  {
   "cell_type": "code",
   "execution_count": 40,
   "id": "c3d4fc22-cfc1-4865-b08b-48131eac982a",
   "metadata": {},
   "outputs": [],
   "source": [
    "mirror = mirror_tree(b1)"
   ]
  },
  {
   "cell_type": "code",
   "execution_count": 41,
   "id": "f1f19aea-1f8f-4bb9-9209-37d89bac71ea",
   "metadata": {},
   "outputs": [
    {
     "name": "stdout",
     "output_type": "stream",
     "text": [
      "1: L 3 R 2 \n",
      "3: None R 5 \n",
      "5: None None \n",
      "2: L 4 None \n",
      "4: None R 6 \n",
      "6: None None \n"
     ]
    }
   ],
   "source": [
    "print_tree(mirror)"
   ]
  },
  {
   "cell_type": "markdown",
   "id": "6cb2452e-73c9-4a00-8202-9bd96eb5ecd3",
   "metadata": {},
   "source": [
    "## Check if Binary Tree is balanced\n",
    "\n",
    "A Binary Tree is balanced when the height diff between left and right children is not more than 1\n",
    "\n",
    "$\n",
    "\\text{1. Worst Case: } O(n^{2}) \\\\\n",
    "\\text{Recurrence: } T(n) = kn + T(n - 1) \\\\\n",
    "\\text{2. Best Case: O(nlogn)} \\\\\n",
    "\\text{Recurrence: } T(n) = kn + 2T(n/2)\n",
    "$"
   ]
  },
  {
   "cell_type": "code",
   "execution_count": 43,
   "id": "5bb4bdde-43fc-4d43-82de-27eb4345c4c9",
   "metadata": {},
   "outputs": [],
   "source": [
    "def height(root):\n",
    "    if root is None:\n",
    "        return 0\n",
    "    else:\n",
    "        return 1 + max(height(root.left), height(root.right))\n",
    "\n",
    "def is_balanced(root):\n",
    "    if root is None:\n",
    "        return True\n",
    "                       \n",
    "    lh = height(root.left)\n",
    "    rh = height(root.right)\n",
    "                                      \n",
    "    if lh - rh > 1 or rh - lh > 1:\n",
    "        return False\n",
    "                       \n",
    "    left = is_balanced(root.left)\n",
    "    right = is_balanced(root.right)\n",
    "    \n",
    "    if left and right:\n",
    "        return True\n",
    "    else:\n",
    "        return False"
   ]
  },
  {
   "cell_type": "code",
   "execution_count": 44,
   "id": "3693d31d-6a68-420e-8ccc-51aa534a1f8a",
   "metadata": {},
   "outputs": [
    {
     "data": {
      "text/plain": [
       "False"
      ]
     },
     "execution_count": 44,
     "metadata": {},
     "output_type": "execute_result"
    }
   ],
   "source": [
    "is_balanced(b1)"
   ]
  },
  {
   "cell_type": "code",
   "execution_count": null,
   "id": "c502b0de-f34e-465e-9db6-fdc8ea336485",
   "metadata": {},
   "outputs": [],
   "source": [
    "def height(root):\n",
    "    if root is None:\n",
    "        return 0\n",
    "    else:\n",
    "        return 1 + max(height(root.left), height(root.right))\n",
    "    \n",
    "def is_balanced2(root, is_balanced):\n",
    "    if root is None:\n",
    "        return 0, True\n",
    "    \n",
    "    lh, is_left_balanced = is_balanced2(root.left, is_balanced)\n",
    "    rh, is_right_balanced = is_balanced2(root.right, is_balanced)\n",
    "    \n",
    "    "
   ]
  },
  {
   "cell_type": "code",
   "execution_count": null,
   "id": "81440b02-36da-4bb2-a4fa-90d4e8c97564",
   "metadata": {},
   "outputs": [],
   "source": []
  },
  {
   "cell_type": "markdown",
   "id": "d52b9076-e235-4e31-ae1c-79860f5e8035",
   "metadata": {},
   "source": [
    "## Sum of Nodes"
   ]
  },
  {
   "cell_type": "code",
   "execution_count": 47,
   "id": "1a6100d1-e063-4634-9c22-74b52d675f18",
   "metadata": {},
   "outputs": [],
   "source": [
    "def get_sum(root):\n",
    "    if root == None:\n",
    "        return 0\n",
    "    return root.data + get_sum(root.left) + get_sum(root.right)"
   ]
  },
  {
   "cell_type": "code",
   "execution_count": 48,
   "id": "8b462b2a-e0f3-4ffb-bc83-07c49d04b84a",
   "metadata": {},
   "outputs": [
    {
     "data": {
      "text/plain": [
       "21"
      ]
     },
     "execution_count": 48,
     "metadata": {},
     "output_type": "execute_result"
    }
   ],
   "source": [
    "get_sum(b1)"
   ]
  },
  {
   "cell_type": "markdown",
   "id": "2a6c4c6d-d29c-4994-93cc-62c36bc1bc93",
   "metadata": {},
   "source": [
    "## Nodes greater than X"
   ]
  },
  {
   "cell_type": "code",
   "execution_count": 49,
   "id": "5cb5a0d0-17c8-4523-bfe5-2289dbe41acf",
   "metadata": {},
   "outputs": [],
   "source": [
    "def countNodesGreaterThanX(root, x):\n",
    "    # Your code goes here\n",
    "    if root is None:\n",
    "        return 0\n",
    "    if x < root.data:\n",
    "        lcount = 1 + countNodesGreaterThanX(root.left, x)\n",
    "        rcount = 1 + countNodesGreaterThanX(root.right, x)\n",
    "    else:\n",
    "        lcount = countNodesGreaterThanX(root.left, x)\n",
    "        rcount = countNodesGreaterThanX(root.right, x)\n",
    "\n",
    "    return lcount + rcount"
   ]
  },
  {
   "cell_type": "code",
   "execution_count": 50,
   "id": "27ad3ed3-e8a9-4f61-9099-d4a8c40c251c",
   "metadata": {},
   "outputs": [
    {
     "data": {
      "text/plain": [
       "4"
      ]
     },
     "execution_count": 50,
     "metadata": {},
     "output_type": "execute_result"
    }
   ],
   "source": [
    "countNodesGreaterThanX(b1, 4)"
   ]
  },
  {
   "cell_type": "code",
   "execution_count": null,
   "id": "7a09d98c-3ab7-4f08-ae88-1e5f95149d02",
   "metadata": {},
   "outputs": [],
   "source": []
  }
 ],
 "metadata": {
  "kernelspec": {
   "display_name": "Python 3 (ipykernel)",
   "language": "python",
   "name": "python3"
  },
  "language_info": {
   "codemirror_mode": {
    "name": "ipython",
    "version": 3
   },
   "file_extension": ".py",
   "mimetype": "text/x-python",
   "name": "python",
   "nbconvert_exporter": "python",
   "pygments_lexer": "ipython3",
   "version": "3.9.7"
  },
  "toc": {
   "base_numbering": 1,
   "nav_menu": {},
   "number_sections": true,
   "sideBar": true,
   "skip_h1_title": false,
   "title_cell": "Table of Contents",
   "title_sidebar": "Contents",
   "toc_cell": false,
   "toc_position": {
    "height": "calc(100% - 180px)",
    "left": "10px",
    "top": "150px",
    "width": "292.95px"
   },
   "toc_section_display": true,
   "toc_window_display": true
  }
 },
 "nbformat": 4,
 "nbformat_minor": 5
}
